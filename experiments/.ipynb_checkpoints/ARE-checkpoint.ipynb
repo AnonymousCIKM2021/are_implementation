{
 "cells": [
  {
   "cell_type": "markdown",
   "metadata": {},
   "source": [
    "# The notebook demonstrates an example of using ARE model"
   ]
  },
  {
   "cell_type": "code",
   "execution_count": null,
   "metadata": {
    "colab": {
     "base_uri": "https://localhost:8080/"
    },
    "id": "KyJltpc_6oEG",
    "outputId": "b9946f44-947b-48eb-c764-9a6308ba6146"
   },
   "outputs": [
    {
     "name": "stdout",
     "output_type": "stream",
     "text": [
      "Drive already mounted at /content/gdrive; to attempt to forcibly remount, call drive.mount(\"/content/gdrive\", force_remount=True).\n"
     ]
    }
   ],
   "source": [
    "from pathlib import Path\n",
    "from google.colab import drive\n",
    "drive.mount('/content/gdrive')"
   ]
  },
  {
   "cell_type": "markdown",
   "metadata": {
    "id": "aRm3a_L1tHAU"
   },
   "source": [
    "## Upload libraries and the data"
   ]
  },
  {
   "cell_type": "code",
   "execution_count": null,
   "metadata": {
    "colab": {
     "base_uri": "https://localhost:8080/"
    },
    "id": "Y4dtXhpN6mXx",
    "outputId": "d3500cc2-9c69-4e92-e7fc-6f10a72229e7"
   },
   "outputs": [
    {
     "name": "stdout",
     "output_type": "stream",
     "text": [
      "/content/gdrive/My Drive/recom_data\n"
     ]
    }
   ],
   "source": [
    "%cd /content/gdrive/My\\ Drive/are\n",
    "\n",
    "import are_model\n",
    "from load_data import load_data, load_constants\n",
    "\n",
    "import pandas as pd\n",
    "import numpy as np\n",
    "from time import time\n",
    "import torch"
   ]
  },
  {
   "cell_type": "markdown",
   "metadata": {
    "id": "luTQIMXJoxeB"
   },
   "source": [
    "## Douban Monti"
   ]
  },
  {
   "cell_type": "code",
   "execution_count": null,
   "metadata": {
    "id": "mzcH77Mhe0QO"
   },
   "outputs": [],
   "source": [
    "dataset_name = 'douban'\n",
    "\n",
    "train_tensor, val_tensor, user_features_tensor, item_features_tensor = load_data(\n",
    "    dataset_name,\n",
    "    'data/' + dataset_name + '/data',\n",
    "    'cuda'\n",
    ")\n",
    "\n",
    "constants = load_constants(dataset_name)"
   ]
  },
  {
   "cell_type": "code",
   "execution_count": null,
   "metadata": {
    "colab": {
     "base_uri": "https://localhost:8080/"
    },
    "id": "HYDqyH8dpT92",
    "outputId": "3f59fe3a-f03a-4fcd-e03b-6b9810ee6011"
   },
   "outputs": [
    {
     "name": "stdout",
     "output_type": "stream",
     "text": [
      "Epoch 0; train loss: 0.6872; val loss: 0.7792;\n",
      "Epoch 1; train loss: 0.6467; val loss: 0.7442;\n",
      "Epoch 2; train loss: 0.6435; val loss: 0.7435;\n",
      "Epoch 3; train loss: 0.6398; val loss: 0.7433;\n",
      "Epoch 4; train loss: 0.6358; val loss: 0.7434;\n",
      "Epoch 5; train loss: 0.6314; val loss: 0.7438;\n",
      "Epoch 6; train loss: 0.6264; val loss: 0.7443;\n",
      "Epoch 7; train loss: 0.6210; val loss: 0.7450;\n",
      "Epoch 8; train loss: 0.6152; val loss: 0.7459;\n",
      "Epoch 9; train loss: 0.6091; val loss: 0.7472;\n",
      "Epoch 0; train loss: 0.6880; val loss: 0.8865;\n",
      "Epoch 1; train loss: 0.5861; val loss: 0.7466;\n",
      "Epoch 2; train loss: 0.5886; val loss: 0.7259;\n",
      "Epoch 3; train loss: 0.5943; val loss: 0.7209;\n",
      "ARE model fitted.\n",
      "User-based: train loss: 0.6031, val loss: 0.7490; \n",
      "Item-based: train loss: 0.5926 val loss: 0.7200; \n",
      "ARE: train loss: 0.5913 val loss: 0.7199;\n",
      "\n",
      "ARE RMSE loss on Douban-Monti: 0.720. Time: 2.43 seconds. Number of parameters: 70\n"
     ]
    }
   ],
   "source": [
    "user_train_input   = {'x': train_tensor}\n",
    "item_train_input   = {'x': train_tensor.T}\n",
    "user_features_dict = {}\n",
    "item_features_dict = {}\n",
    "\n",
    "are = are_model.ARE(\n",
    "    user_features_dict,\n",
    "    item_features_dict,\n",
    "    user_init_zero_emb = constants['user_init_zero_emb'],\n",
    "    item_init_zero_emb = constants['item_init_zero_emb'],\n",
    "    user_init_beta     = constants['user_init_beta'],\n",
    "    item_init_beta     = constants['item_init_beta'],\n",
    "    item_init_gamma    = constants['item_init_gamma'],\n",
    "    alpha              = constants['alpha'],\n",
    "    device             = constants['device']\n",
    ")\n",
    "\n",
    "start_time = time()\n",
    "\n",
    "are.fit(\n",
    "    train_tensor,\n",
    "    val_tensor,\n",
    "    user_train_input,\n",
    "    item_train_input,\n",
    "    user_num_epochs = constants['user_num_epochs'],\n",
    "    item_num_epochs = constants['item_num_epochs'],\n",
    "    item_optimizer  = constants['item_optimizer'],\n",
    "    user_scheduler  = constants['user_scheduler'],\n",
    "    item_scheduler  = constants['item_scheduler'],\n",
    "    verbose         = True\n",
    ")\n",
    "\n",
    "total_time = time() - start_time\n",
    "rmse       = are_model.MSEloss(val_tensor, are.predict(user_train_input, item_train_input)).item() ** (1/2)\n",
    "num_params = len(torch.cat([m.view(-1) for m in are.item_model.parameters() if m.requires_grad] + \\\n",
    "                           [m.view(-1) for m in are.user_model.parameters() if m.requires_grad]))\n",
    "\n",
    "print(f'\\nARE RMSE loss on Douban-Monti: {rmse:.3f}. Time: {total_time:.2f} seconds. Number of parameters: {num_params}')"
   ]
  },
  {
   "cell_type": "markdown",
   "metadata": {
    "id": "PVbvwP4BzRwL"
   },
   "source": [
    "## MovieLens-100k"
   ]
  },
  {
   "cell_type": "code",
   "execution_count": null,
   "metadata": {
    "id": "Y-KWQqIlpUEw"
   },
   "outputs": [],
   "source": [
    "dataset_name = 'ml-100k'\n",
    "train_tensor, val_tensor, user_features_tensor, item_features_tensor = load_data(\n",
    "    dataset_name,\n",
    "    'datasets/' + dataset_name + '/data',\n",
    "    'cuda'\n",
    ")"
   ]
  },
  {
   "cell_type": "markdown",
   "metadata": {
    "id": "JFn1_EoA_VsI"
   },
   "source": [
    "### ARE+feat"
   ]
  },
  {
   "cell_type": "code",
   "execution_count": null,
   "metadata": {
    "id": "EnsbeLGl3RRW"
   },
   "outputs": [],
   "source": [
    "model_type   = 'are+feat'\n",
    "constants    = load_constants(dataset_name, model_type)"
   ]
  },
  {
   "cell_type": "code",
   "execution_count": null,
   "metadata": {
    "colab": {
     "base_uri": "https://localhost:8080/"
    },
    "id": "Az5U5OT7GN-y",
    "outputId": "ae533515-f03c-4089-a8f1-6f51e19db485"
   },
   "outputs": [
    {
     "name": "stdout",
     "output_type": "stream",
     "text": [
      "Epoch 0; train loss: 0.8713; val loss: 0.9504;\n",
      "Epoch 1; train loss: 0.8595; val loss: 0.9468;\n",
      "Epoch 2; train loss: 0.8490; val loss: 0.9454;\n",
      "Epoch 3; train loss: 0.8391; val loss: 0.9459;\n",
      "Epoch 4; train loss: 0.8362; val loss: 0.9464;\n",
      "Epoch 5; train loss: 0.8333; val loss: 0.9471;\n",
      "Epoch 6; train loss: 0.8304; val loss: 0.9479;\n",
      "Epoch 7; train loss: 0.8276; val loss: 0.9485;\n",
      "Epoch 8; train loss: 0.8249; val loss: 0.9493;\n",
      "Epoch 9; train loss: 0.8226; val loss: 0.9502;\n",
      "Epoch 0; train loss: 0.8280; val loss: 0.9365;\n",
      "Epoch 1; train loss: 0.8179; val loss: 0.9402;\n",
      "Epoch 2; train loss: 0.8077; val loss: 0.9359;\n",
      "Epoch 3; train loss: 0.8056; val loss: 0.9348;\n",
      "Epoch 4; train loss: 0.8035; val loss: 0.9337;\n",
      "Epoch 5; train loss: 0.8014; val loss: 0.9327;\n",
      "Epoch 6; train loss: 0.7995; val loss: 0.9318;\n",
      "Epoch 7; train loss: 0.7976; val loss: 0.9311;\n",
      "ARE model fitted.\n",
      "User-based: train loss: 0.8206, val loss: 0.9514; \n",
      "Item-based: train loss: 0.7972 val loss: 0.9309; \n",
      "ARE: train loss: 0.7818 val loss: 0.9163;\n",
      "\n",
      "ARE+feat RMSE loss on MovieLens-100k: 0.916. Time: 0.52 seconds. Number of parameters: 935\n"
     ]
    }
   ],
   "source": [
    "user_train_input = {\n",
    "    'x':   train_tensor,\n",
    "    'is_male': user_features_tensor[:, :1],\n",
    "    'occup': user_features_tensor[:, 1:2],\n",
    "}\n",
    "\n",
    "item_train_input = {\n",
    "    'x':   train_tensor.T,\n",
    "    'genres': item_features_tensor,\n",
    "}\n",
    "\n",
    "user_features_dict  = { \n",
    "    'is_male': [len(user_train_input['is_male'].unique()), False],\n",
    "    'occup':   [len(user_train_input['occup'].unique()), False]\n",
    "}\n",
    "\n",
    "item_features_dict  = {\n",
    "    'genres': [len(item_train_input['genres'].unique()), True]\n",
    "}\n",
    "\n",
    "are = are_model.ARE(\n",
    "    user_features_dict,\n",
    "    item_features_dict,\n",
    "    alpha  = constants['alpha'],\n",
    "    device = constants['device']\n",
    ")\n",
    "\n",
    "start_time = time()\n",
    "\n",
    "are.fit(\n",
    "    train_tensor,\n",
    "    val_tensor,\n",
    "    user_train_input,\n",
    "    item_train_input,\n",
    "    user_num_epochs = constants['user_num_epochs'],\n",
    "    item_num_epochs = constants['item_num_epochs'],\n",
    "    verbose         = True\n",
    ")\n",
    "\n",
    "total_time = time() - start_time\n",
    "rmse = are_model.MSEloss(val_tensor, are.predict(user_train_input, item_train_input)).item() ** (1/2)\n",
    "num_params = len(torch.cat([m.view(-1) for m in are.item_model.parameters() if m.requires_grad] + \\\n",
    "                           [m.view(-1) for m in are.user_model.parameters() if m.requires_grad]))\n",
    "\n",
    "print(f'\\nARE+feat RMSE loss on MovieLens-100k: {rmse:.3f}. Time: {total_time:.2f} seconds. Number of parameters: {num_params}')"
   ]
  },
  {
   "cell_type": "markdown",
   "metadata": {
    "id": "Nk_MYLb9_X5J"
   },
   "source": [
    "### Plain ARE"
   ]
  },
  {
   "cell_type": "code",
   "execution_count": null,
   "metadata": {
    "id": "Vt-iK0Fus96_"
   },
   "outputs": [],
   "source": [
    "model_type   = 'are'\n",
    "constants    = load_constants(dataset_name, model_type)"
   ]
  },
  {
   "cell_type": "code",
   "execution_count": null,
   "metadata": {
    "colab": {
     "base_uri": "https://localhost:8080/"
    },
    "id": "KYUrqq_l_ZWt",
    "outputId": "9edddbe8-4aca-49cf-82b1-5a1a322793d8"
   },
   "outputs": [
    {
     "name": "stdout",
     "output_type": "stream",
     "text": [
      "Epoch 0; train loss: 0.8710; val loss: 0.9503;\n",
      "Epoch 1; train loss: 0.8593; val loss: 0.9467;\n",
      "Epoch 2; train loss: 0.8487; val loss: 0.9452;\n",
      "Epoch 3; train loss: 0.8387; val loss: 0.9455;\n",
      "Epoch 0; train loss: 0.8419; val loss: 0.9431;\n",
      "Epoch 1; train loss: 0.8310; val loss: 0.9458;\n",
      "Epoch 2; train loss: 0.8187; val loss: 0.9386;\n",
      "Epoch 3; train loss: 0.8165; val loss: 0.9372;\n",
      "ARE model fitted.\n",
      "User-based: train loss: 0.8358, val loss: 0.9460; \n",
      "Item-based: train loss: 0.8143 val loss: 0.9359; \n",
      "ARE: train loss: 0.8006 val loss: 0.9184;\n",
      "\n",
      "ARE RMSE loss on MovieLens-100k: 0.918. Time: 0.51 seconds. Number of parameters: 70\n"
     ]
    }
   ],
   "source": [
    "user_train_input    = {'x': train_tensor}\n",
    "item_train_input    = {'x': train_tensor.T}\n",
    "item_features_dict  = {}\n",
    "user_features_dict  = {}\n",
    "\n",
    "are = are_model.ARE(\n",
    "    user_features_dict,\n",
    "    item_features_dict,\n",
    "    item_init_zero_emb = constants['item_init_zero_emb'],\n",
    "    alpha              = constants['alpha'],\n",
    "    device             = constants['device']\n",
    ")\n",
    "\n",
    "are.fit(\n",
    "    train_tensor,\n",
    "    val_tensor,\n",
    "    user_train_input,\n",
    "    item_train_input,\n",
    "    user_num_epochs = constants['user_num_epochs'],\n",
    "    item_num_epochs = constants['item_num_epochs'],\n",
    "    verbose         = True\n",
    ")\n",
    "\n",
    "total_time = time() - start_time\n",
    "rmse = are_model.MSEloss(val_tensor, are.predict(user_train_input, item_train_input)).item() ** (1/2)\n",
    "num_params = len(torch.cat([m.view(-1) for m in are.item_model.parameters() if m.requires_grad] + \\\n",
    "                           [m.view(-1) for m in are.user_model.parameters() if m.requires_grad]))\n",
    "\n",
    "print(f'\\nARE RMSE loss on MovieLens-100k: {rmse:.3f}. Time: {total_time:.2f} seconds. Number of parameters: {num_params}')"
   ]
  },
  {
   "cell_type": "markdown",
   "metadata": {
    "id": "3QBI0zU0uJ3P"
   },
   "source": [
    "## MovieLens-1M"
   ]
  },
  {
   "cell_type": "code",
   "execution_count": null,
   "metadata": {
    "colab": {
     "base_uri": "https://localhost:8080/"
    },
    "id": "pJvMNjW93S0l",
    "outputId": "ca92bd5b-c813-4bb3-9b95-7f3cb2f6c655"
   },
   "outputs": [
    {
     "name": "stderr",
     "output_type": "stream",
     "text": [
      "/content/gdrive/My Drive/recom_data/load_data.py:78: ParserWarning: Falling back to the 'python' engine because the 'c' engine does not support regex separators (separators > 1 char and different from '\\s+' are interpreted as regex); you can avoid this warning by specifying engine='python'.\n",
      "  ratings = pd.read_csv(folder + '/ratings.dat', sep='::', header=None)\n",
      "/content/gdrive/My Drive/recom_data/load_data.py:99: ParserWarning: Falling back to the 'python' engine because the 'c' engine does not support regex separators (separators > 1 char and different from '\\s+' are interpreted as regex); you can avoid this warning by specifying engine='python'.\n",
      "  movies_init = pd.read_csv(folder + '/movies.dat', sep='::', header=None, encoding=\"ISO-8859-1\")\n",
      "/content/gdrive/My Drive/recom_data/load_data.py:112: ParserWarning: Falling back to the 'python' engine because the 'c' engine does not support regex separators (separators > 1 char and different from '\\s+' are interpreted as regex); you can avoid this warning by specifying engine='python'.\n",
      "  users_init = pd.read_csv(folder + '/users.dat', sep='::', header=None, encoding=\"ISO-8859-1\")\n"
     ]
    }
   ],
   "source": [
    "dataset_name = 'ml-1m'\n",
    "train_tensor, val_tensor, user_features_tensor, item_features_tensor = load_data(\n",
    "    dataset_name,\n",
    "    'datasets/' + dataset_name + '/data',\n",
    "    'cuda'\n",
    ")"
   ]
  },
  {
   "cell_type": "markdown",
   "metadata": {
    "id": "IvGTlLGz3Y97"
   },
   "source": [
    "### ARE+feat"
   ]
  },
  {
   "cell_type": "code",
   "execution_count": null,
   "metadata": {
    "id": "Q0hjD6ZLBHTk"
   },
   "outputs": [],
   "source": [
    "model_type   = 'are+feat'\n",
    "constants    = load_constants(dataset_name, model_type)"
   ]
  },
  {
   "cell_type": "code",
   "execution_count": null,
   "metadata": {
    "colab": {
     "base_uri": "https://localhost:8080/"
    },
    "id": "o13Tj24huTTR",
    "outputId": "00819d7e-3eb9-49e2-a3cc-5e9420384f20"
   },
   "outputs": [
    {
     "name": "stdout",
     "output_type": "stream",
     "text": [
      "Epoch 0; train loss: 0.8564; val loss: 0.8959;\n",
      "Epoch 1; train loss: 0.8450; val loss: 0.8966;\n",
      "Epoch 2; train loss: 0.8328; val loss: 0.8922;\n",
      "Epoch 3; train loss: 0.8231; val loss: 0.8904;\n",
      "Epoch 4; train loss: 0.8147; val loss: 0.8919;\n",
      "Epoch 5; train loss: 0.8070; val loss: 0.8962;\n",
      "Epoch 6; train loss: 0.8018; val loss: 0.9039;\n",
      "Epoch 7; train loss: 0.8143; val loss: 0.9247;\n",
      "Epoch 8; train loss: 0.8018; val loss: 0.9167;\n",
      "Epoch 9; train loss: 0.7985; val loss: 0.9141;\n",
      "Epoch 0; train loss: 0.8642; val loss: 0.8898;\n",
      "Epoch 1; train loss: 0.8430; val loss: 0.8717;\n",
      "Epoch 2; train loss: 0.8303; val loss: 0.8621;\n",
      "Epoch 3; train loss: 0.8286; val loss: 0.8610;\n",
      "Epoch 4; train loss: 0.8270; val loss: 0.8601;\n",
      "Epoch 5; train loss: 0.8257; val loss: 0.8595;\n",
      "Epoch 6; train loss: 0.8245; val loss: 0.8590;\n",
      "Epoch 7; train loss: 0.8234; val loss: 0.8588;\n",
      "Epoch 8; train loss: 0.8232; val loss: 0.8587;\n",
      "Epoch 9; train loss: 0.8230; val loss: 0.8587;\n",
      "ARE model fitted.\n",
      "User-based: train loss: 0.7966, val loss: 0.9104; \n",
      "Item-based: train loss: 0.8228 val loss: 0.8587; \n",
      "ARE: train loss: 0.7966 val loss: 0.8519;\n",
      "\n",
      "ARE+feat RMSE loss on MovieLens-1M: 0.852. Time: 13.86 seconds. Number of parameters: 891\n"
     ]
    }
   ],
   "source": [
    "user_train_input = {\n",
    "    'x':   train_tensor,\n",
    "    'occup': user_features_tensor[:, 2:3],\n",
    "}\n",
    "\n",
    "item_train_input = {\n",
    "    'x':   train_tensor.T,\n",
    "    'genres': item_features_tensor,\n",
    "}\n",
    "\n",
    "user_features_dict  = {\n",
    "    'occup':   [len(user_train_input['occup'].unique()), False]\n",
    "}\n",
    "\n",
    "item_features_dict  = {\n",
    "    'genres': [len(item_train_input['genres'].unique()), True]\n",
    "}\n",
    "\n",
    "are = are_model.ARE(\n",
    "    user_features_dict,\n",
    "    item_features_dict,\n",
    "    alpha  = constants['alpha'],\n",
    "    device = constants['device'],\n",
    ")\n",
    "\n",
    "start_time = time()\n",
    "\n",
    "are.fit(\n",
    "    train_tensor,\n",
    "    val_tensor,\n",
    "    user_train_input,\n",
    "    item_train_input,\n",
    "    user_num_epochs = constants['user_num_epochs'],\n",
    "    item_num_epochs = constants['item_num_epochs'],\n",
    "    user_scheduler  = constants['user_scheduler'],\n",
    "    verbose         = True\n",
    ")\n",
    "\n",
    "total_time = time() - start_time\n",
    "rmse = are_model.MSEloss(val_tensor, are.predict(user_train_input, item_train_input)).item() ** (1/2)\n",
    "num_params = len(torch.cat([m.view(-1) for m in are.item_model.parameters() if m.requires_grad] + \\\n",
    "                           [m.view(-1) for m in are.user_model.parameters() if m.requires_grad]))\n",
    "\n",
    "print(f'\\nARE+feat RMSE loss on MovieLens-1M: {rmse:.3f}. Time: {total_time:.2f} seconds. Number of parameters: {num_params}')"
   ]
  },
  {
   "cell_type": "markdown",
   "metadata": {
    "id": "Ond_QEfj3d5L"
   },
   "source": [
    "### Plain ARE"
   ]
  },
  {
   "cell_type": "code",
   "execution_count": null,
   "metadata": {
    "id": "9pkuoOm_0ESq"
   },
   "outputs": [],
   "source": [
    "model_type   = 'are'\n",
    "constants    = load_constants(dataset_name, model_type)"
   ]
  },
  {
   "cell_type": "code",
   "execution_count": null,
   "metadata": {
    "colab": {
     "base_uri": "https://localhost:8080/"
    },
    "id": "Vdqmr7zK3hKF",
    "outputId": "60096110-00e5-4e4a-a269-43df7ceb9070"
   },
   "outputs": [
    {
     "name": "stdout",
     "output_type": "stream",
     "text": [
      "Epoch 0; train loss: 0.8564; val loss: 0.8959;\n",
      "Epoch 1; train loss: 0.8451; val loss: 0.8967;\n",
      "Epoch 2; train loss: 0.8328; val loss: 0.8921;\n",
      "Epoch 3; train loss: 0.8230; val loss: 0.8904;\n",
      "Epoch 4; train loss: 0.8144; val loss: 0.8917;\n",
      "Epoch 5; train loss: 0.8066; val loss: 0.8961;\n",
      "Epoch 6; train loss: 0.8013; val loss: 0.9038;\n",
      "Epoch 7; train loss: 0.8247; val loss: 0.9349;\n",
      "Epoch 8; train loss: 0.8017; val loss: 0.9167;\n",
      "Epoch 9; train loss: 0.7988; val loss: 0.9134;\n",
      "Epoch 0; train loss: 0.8774; val loss: 0.9030;\n",
      "Epoch 1; train loss: 0.8509; val loss: 0.8791;\n",
      "Epoch 2; train loss: 0.8368; val loss: 0.8679;\n",
      "Epoch 3; train loss: 0.8347; val loss: 0.8666;\n",
      "Epoch 4; train loss: 0.8343; val loss: 0.8664;\n",
      "Epoch 5; train loss: 0.8314; val loss: 0.8647;\n",
      "Epoch 6; train loss: 0.8302; val loss: 0.8640;\n",
      "Epoch 7; train loss: 0.8290; val loss: 0.8634;\n",
      "Epoch 8; train loss: 0.8288; val loss: 0.8633;\n",
      "Epoch 9; train loss: 0.8285; val loss: 0.8632;\n",
      "ARE model fitted.\n",
      "User-based: train loss: 0.7979, val loss: 0.9099; \n",
      "Item-based: train loss: 0.8282 val loss: 0.8631; \n",
      "ARE: train loss: 0.8000 val loss: 0.8538;\n",
      "\n",
      "ARE RMSE loss on MovieLens-1M: 0.854. Time: 13.57 seconds. Number of parameters: 70\n"
     ]
    }
   ],
   "source": [
    "user_train_input    = {'x': train_tensor}\n",
    "item_train_input    = {'x': train_tensor.T}\n",
    "user_features_dict  = {}\n",
    "item_features_dict  = {}\n",
    "\n",
    "are = are_model.ARE(\n",
    "    user_features_dict,\n",
    "    item_features_dict,\n",
    "    item_init_means_add = constants['item_init_means_add'],\n",
    "    alpha               = constants['alpha'],\n",
    "    device              = constants['device'],\n",
    ")\n",
    "\n",
    "start_time = time()\n",
    "\n",
    "are.fit(\n",
    "    train_tensor,\n",
    "    val_tensor,\n",
    "    user_train_input,\n",
    "    item_train_input,\n",
    "    user_num_epochs = constants['user_num_epochs'],\n",
    "    item_num_epochs = constants['item_num_epochs'],\n",
    "    user_scheduler  = constants['user_scheduler'],\n",
    "    verbose         = True\n",
    ")\n",
    "\n",
    "total_time = time() - start_time\n",
    "rmse = are_model.MSEloss(val_tensor, are.predict(user_train_input, item_train_input)).item() ** (1/2)\n",
    "num_params = len(torch.cat([m.view(-1) for m in are.item_model.parameters() if m.requires_grad] + \\\n",
    "                           [m.view(-1) for m in are.user_model.parameters() if m.requires_grad]))\n",
    "\n",
    "print(f'\\nARE RMSE loss on MovieLens-1M: {rmse:.3f}. Time: {total_time:.2f} seconds. Number of parameters: {num_params}')"
   ]
  },
  {
   "cell_type": "code",
   "execution_count": null,
   "metadata": {
    "id": "t2uKAIA83r9I"
   },
   "outputs": [],
   "source": []
  }
 ],
 "metadata": {
  "accelerator": "GPU",
  "colab": {
   "collapsed_sections": [],
   "machine_shape": "hm",
   "name": "ARE",
   "provenance": [],
   "toc_visible": true
  },
  "kernelspec": {
   "display_name": "Python 3",
   "language": "python",
   "name": "python3"
  },
  "language_info": {
   "codemirror_mode": {
    "name": "ipython",
    "version": 3
   },
   "file_extension": ".py",
   "mimetype": "text/x-python",
   "name": "python",
   "nbconvert_exporter": "python",
   "pygments_lexer": "ipython3",
   "version": "3.8.3"
  },
  "nbTranslate": {
   "displayLangs": [
    "*"
   ],
   "hotkey": "alt-t",
   "langInMainMenu": true,
   "sourceLang": "en",
   "targetLang": "fr",
   "useGoogleTranslate": true
  },
  "toc": {
   "base_numbering": 1,
   "nav_menu": {},
   "number_sections": false,
   "sideBar": true,
   "skip_h1_title": false,
   "title_cell": "Table of Contents",
   "title_sidebar": "Contents",
   "toc_cell": false,
   "toc_position": {},
   "toc_section_display": true,
   "toc_window_display": true
  },
  "varInspector": {
   "cols": {
    "lenName": 16,
    "lenType": 16,
    "lenVar": 40
   },
   "kernels_config": {
    "python": {
     "delete_cmd_postfix": "",
     "delete_cmd_prefix": "del ",
     "library": "var_list.py",
     "varRefreshCmd": "print(var_dic_list())"
    },
    "r": {
     "delete_cmd_postfix": ") ",
     "delete_cmd_prefix": "rm(",
     "library": "var_list.r",
     "varRefreshCmd": "cat(var_dic_list()) "
    }
   },
   "types_to_exclude": [
    "module",
    "function",
    "builtin_function_or_method",
    "instance",
    "_Feature"
   ],
   "window_display": false
  }
 },
 "nbformat": 4,
 "nbformat_minor": 1
}
